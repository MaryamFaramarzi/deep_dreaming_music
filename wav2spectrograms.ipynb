{
  "nbformat": 4,
  "nbformat_minor": 0,
  "metadata": {
    "colab": {
      "name": "wav2spectrograms.ipynb",
      "provenance": [],
      "authorship_tag": "ABX9TyPIv3AQh2nqLMLylUelmqUQ",
      "include_colab_link": true
    },
    "kernelspec": {
      "name": "python3",
      "display_name": "Python 3"
    },
    "language_info": {
      "name": "python"
    }
  },
  "cells": [
    {
      "cell_type": "markdown",
      "metadata": {
        "id": "view-in-github",
        "colab_type": "text"
      },
      "source": [
        "<a href=\"https://colab.research.google.com/github/smhall97/hallucinating_GANs/blob/main/wav2spectrograms.ipynb\" target=\"_parent\"><img src=\"https://colab.research.google.com/assets/colab-badge.svg\" alt=\"Open In Colab\"/></a>"
      ]
    },
    {
      "cell_type": "code",
      "metadata": {
        "colab": {
          "base_uri": "https://localhost:8080/"
        },
        "id": "GWi-Njlilp9_",
        "outputId": "4c9965aa-6dec-4a7c-885f-7f4fb9e0cf74"
      },
      "source": [
        "# @title Install dependencies\n",
        "!sudo apt-get install -y ffmpeg --quiet\n",
        "!pip install torchaudio --quiet"
      ],
      "execution_count": 1,
      "outputs": [
        {
          "output_type": "stream",
          "text": [
            "Reading package lists...\n",
            "Building dependency tree...\n",
            "Reading state information...\n",
            "ffmpeg is already the newest version (7:3.4.8-0ubuntu0.2).\n",
            "0 upgraded, 0 newly installed, 0 to remove and 40 not upgraded.\n",
            "\u001b[K     |████████████████████████████████| 1.9 MB 31.3 MB/s \n",
            "\u001b[?25h"
          ],
          "name": "stdout"
        }
      ]
    },
    {
      "cell_type": "code",
      "metadata": {
        "colab": {
          "base_uri": "https://localhost:8080/"
        },
        "id": "y5YHJyIgs9Gz",
        "outputId": "0a3a21bc-5826-4180-95b0-be869de6e52f"
      },
      "source": [
        "import torch\n",
        "#import torch.nn as nn\n",
        "import torchaudio\n",
        "from tqdm.notebook import tqdm\n",
        "import numpy as np\n",
        "import matplotlib.pyplot as plt\n",
        "#from IPython.display import display, Audio\n",
        "import librosa\n",
        "#import librosa.display\n",
        "import os\n",
        "import pickle\n",
        "from tqdm import tqdm\n",
        "\n",
        "#print(torch.__version__)\n",
        "print(torchaudio.__version__)\n",
        "\n",
        "#Import the Google Drive\n",
        "from google.colab import drive\n",
        "drive.mount('/content/drive') #it will ask you for a verification code\n",
        "\n",
        "data_path = '/content/drive/MyDrive/HallucinatingGANs/Code/data/'"
      ],
      "execution_count": 2,
      "outputs": [
        {
          "output_type": "stream",
          "text": [
            "0.9.0\n",
            "Mounted at /content/drive\n"
          ],
          "name": "stdout"
        }
      ]
    },
    {
      "cell_type": "code",
      "metadata": {
        "id": "YPFRVW3W92W5"
      },
      "source": [
        "transforms = ['mel','stft']\n",
        "\n",
        "n_fft = 1024\n",
        "n_mels = 128\n",
        "hop_length = 256 # smaller hop size leads to better reconstruction but takes longer to compute\n",
        "power = 2.0 # squared power spectrogram\n",
        "samplerate =  22050\n",
        "\n",
        "\n",
        "def config_transform(t):\n",
        "\n",
        "  if t == 'stft':\n",
        "    get_spectro = torchaudio.transforms.Spectrogram(\n",
        "        n_fft=n_fft,\n",
        "        win_length=None,\n",
        "        hop_length=hop_length,\n",
        "        center=True,\n",
        "        pad_mode=\"reflect\",\n",
        "        power=None,\n",
        "        return_complex=False\n",
        "    )\n",
        "\n",
        "    params = '{}_{}'.format(str(n_fft), str(hop_length))\n",
        "  \n",
        "  elif t == 'mel':\n",
        "\n",
        "    get_spectro = torchaudio.transforms.MelSpectrogram(\n",
        "        sample_rate=samplerate,\n",
        "        n_fft=n_fft,\n",
        "        win_length=None,\n",
        "        hop_length=hop_length,\n",
        "        center=True,\n",
        "        pad_mode=\"reflect\",\n",
        "        power=power,\n",
        "        norm='slaney',\n",
        "        onesided=True,\n",
        "        n_mels=n_mels,\n",
        "        mel_scale=\"htk\",\n",
        "    )\n",
        "\n",
        "    params = '{}_{}_{}'.format(str(n_fft), str(hop_length), n_mels)\n",
        "\n",
        "  return params, get_spectro"
      ],
      "execution_count": 17,
      "outputs": []
    },
    {
      "cell_type": "code",
      "metadata": {
        "colab": {
          "base_uri": "https://localhost:8080/"
        },
        "id": "19QXYQzC3Sbx",
        "outputId": "e4bb5de7-6480-45df-8e8f-c7cfadbfde2a"
      },
      "source": [
        "def scale_minmax(X, min=0.0, max=1.0):\n",
        "    X_std = (X - X.min()) / (X.max() - X.min())\n",
        "    return X_scaled\n",
        "\n",
        "OVERWRITE = True\n",
        "TEST_RUN = True # test to see output, only write first file of each genre\n",
        "test_dir = 'spectrograms_dummy' # directory to write test outputs\n",
        "output_dir = 'spectrograms' # directory to write test outputs\n",
        "\n",
        "\n",
        "for transform in transforms:\n",
        "  params, get_spectro = config_transform(transform)\n",
        "\n",
        "  src_path = data_path + 'genres/'\n",
        "\n",
        "  if TEST_RUN:\n",
        "      path2 = os.path.join(os.path.abspath(data_path), test_dir)\n",
        "  else:\n",
        "      path2 = os.path.join(os.path.abspath(data_path), output_dir)\n",
        "\n",
        "  if not os.path.exists(path2):\n",
        "    os.mkdir(path2)\n",
        "\n",
        "  path3 = os.path.join(path2, transform)\n",
        "  if not os.path.exists(path3):\n",
        "    os.mkdir(path3)\n",
        "\n",
        "  dst_path = os.path.join(path3, params)\n",
        "  print(\"Test Run: \", TEST_RUN)\n",
        "  print(\"Source path: \", src_path)\n",
        "  print(\"Dest path: \", dst_path)\n",
        "\n",
        "  if not os.path.exists(dst_path):\n",
        "      os.mkdir(dst_path)\n",
        "\n",
        "  for genre in tqdm(os.listdir(src_path)):\n",
        "\n",
        "      current_src_dir = os.path.join(src_path, genre)\n",
        "      current_dst_dir = os.path.join(dst_path, genre)\n",
        "\n",
        "      if not os.path.isdir(current_src_dir):\n",
        "        continue\n",
        "        \n",
        "      print(\"Genre: \", genre)\n",
        "\n",
        "      if not os.path.exists(current_dst_dir):\n",
        "          os.mkdir(current_dst_dir)\n",
        "      for i, wav_filename in enumerate(os.listdir(current_src_dir)):\n",
        "                  \n",
        "          if TEST_RUN and i != 0:\n",
        "              continue\n",
        "\n",
        "          pkl_filename = os.path.splitext(wav_filename)[0] + '.pkl'\n",
        "          src_file = os.path.join(current_src_dir, wav_filename)\n",
        "          dst_file = os.path.join(current_dst_dir, pkl_filename)\n",
        "                  \n",
        "          if not OVERWRITE and os.path.exists(dst_file) and not TEST_RUN:\n",
        "              print(\"Skipping existing file \", dst_file)\n",
        "              continue\n",
        "              \n",
        "          # 1. load wav file\n",
        "          wave, sr = librosa.load(src_file, mono=True)\n",
        "          \n",
        "          \n",
        "          # 2. generate squared power spectrogram\n",
        "          # TODO: is squared power necessary? converting to uint8 already loses a lot of nuance\n",
        "  #       spectro = librosa.stft(\n",
        "  #           wave,\n",
        "  #           n_fft=n_fft,\n",
        "  #           hop_length=hop_length,\n",
        "  #           win_length=win_length,\n",
        "  #       )#**2 remove for now...\n",
        "\n",
        "          wave = torch.unsqueeze(torch.Tensor(wave),0)\n",
        "          spectro = get_spectro(wave)\n",
        "          print(f\"spec1 shape: {spectro.shape}  dtype: {spectro.dtype}\")\n",
        "                          \n",
        "          # normalize to 0-1 range\n",
        "          # spectro = scale_minmax(spectro)\n",
        "\n",
        "          # 3. save as pickle file\n",
        "          print('writing file: ' + dst_file)\n",
        "          with open(dst_file, 'wb') as f:\n",
        "              pickle.dump(spectro, f, pickle.HIGHEST_PROTOCOL)"
      ],
      "execution_count": 18,
      "outputs": [
        {
          "output_type": "stream",
          "text": [
            " 64%|██████▎   | 14/22 [00:00<00:00, 99.95it/s]"
          ],
          "name": "stderr"
        },
        {
          "output_type": "stream",
          "text": [
            "Test Run:  True\n",
            "Source path:  /content/drive/MyDrive/HallucinatingGANs/Code/data/genres/\n",
            "Dest path:  /content/drive/MyDrive/HallucinatingGANs/Code/data/spectrograms_dummy/mel/1024_256_128\n",
            "Genre:  rock\n",
            "spec1 shape: torch.Size([1, 128, 2586])  dtype: torch.float32\n",
            "writing file: /content/drive/MyDrive/HallucinatingGANs/Code/data/spectrograms_dummy/mel/1024_256_128/rock/rock.00009.pkl\n",
            "Genre:  reggae\n",
            "spec1 shape: torch.Size([1, 128, 2586])  dtype: torch.float32\n",
            "writing file: /content/drive/MyDrive/HallucinatingGANs/Code/data/spectrograms_dummy/mel/1024_256_128/reggae/reggae.00006.pkl\n",
            "Genre:  pop\n",
            "spec1 shape: torch.Size([1, 128, 2585])  dtype: torch.float32\n",
            "writing file: /content/drive/MyDrive/HallucinatingGANs/Code/data/spectrograms_dummy/mel/1024_256_128/pop/pop.00002.pkl\n",
            "Genre: "
          ],
          "name": "stdout"
        },
        {
          "output_type": "stream",
          "text": [
            "\r 77%|███████▋  | 17/22 [00:00<00:00, 41.82it/s]"
          ],
          "name": "stderr"
        },
        {
          "output_type": "stream",
          "text": [
            " metal\n",
            "spec1 shape: torch.Size([1, 128, 2585])  dtype: torch.float32\n",
            "writing file: /content/drive/MyDrive/HallucinatingGANs/Code/data/spectrograms_dummy/mel/1024_256_128/metal/metal.00001.pkl\n",
            "Genre:  jazz\n",
            "spec1 shape: torch.Size([1, 128, 2586])  dtype: torch.float32\n",
            "writing file: /content/drive/MyDrive/HallucinatingGANs/Code/data/spectrograms_dummy/mel/1024_256_128/jazz/jazz.00002.pkl\n",
            "Genre:  hiphop\n",
            "spec1 shape: torch.Size([1, 128, 2585])  dtype: torch.float32\n",
            "writing file: /content/drive/MyDrive/HallucinatingGANs/Code/data/spectrograms_dummy/mel/1024_256_128/hiphop/hiphop.00003.pkl\n",
            "Genre:  disco\n"
          ],
          "name": "stdout"
        },
        {
          "output_type": "stream",
          "text": [
            "100%|██████████| 22/22 [00:00<00:00, 36.82it/s]\n",
            "  0%|          | 0/22 [00:00<?, ?it/s]"
          ],
          "name": "stderr"
        },
        {
          "output_type": "stream",
          "text": [
            "spec1 shape: torch.Size([1, 128, 2603])  dtype: torch.float32\n",
            "writing file: /content/drive/MyDrive/HallucinatingGANs/Code/data/spectrograms_dummy/mel/1024_256_128/disco/disco.00001.pkl\n",
            "Genre:  country\n",
            "spec1 shape: torch.Size([1, 128, 2586])  dtype: torch.float32\n",
            "writing file: /content/drive/MyDrive/HallucinatingGANs/Code/data/spectrograms_dummy/mel/1024_256_128/country/country.00001.pkl\n",
            "Genre:  classical\n",
            "spec1 shape: torch.Size([1, 128, 2586])  dtype: torch.float32\n",
            "writing file: /content/drive/MyDrive/HallucinatingGANs/Code/data/spectrograms_dummy/mel/1024_256_128/classical/classical.00004.pkl\n",
            "Genre:  blues\n",
            "spec1 shape: torch.Size([1, 128, 2586])  dtype: torch.float32\n",
            "writing file: /content/drive/MyDrive/HallucinatingGANs/Code/data/spectrograms_dummy/mel/1024_256_128/blues/blues.00005.pkl\n",
            "Test Run:  True\n",
            "Source path:  /content/drive/MyDrive/HallucinatingGANs/Code/data/genres/\n",
            "Dest path:  /content/drive/MyDrive/HallucinatingGANs/Code/data/spectrograms_dummy/stft/1024_256\n",
            "Genre:  rock\n"
          ],
          "name": "stdout"
        },
        {
          "output_type": "stream",
          "text": [
            "/usr/local/lib/python3.7/dist-packages/torchaudio/functional/functional.py:89: UserWarning: The use of pseudo complex type in spectrogram is now deprecated.Please migrate to native complex type by providing `return_complex=True`. Please refer to https://github.com/pytorch/audio/issues/1337 for more details about torchaudio's plan to migrate to native complex type.\n",
            "  \"The use of pseudo complex type in spectrogram is now deprecated.\"\n",
            " 64%|██████▎   | 14/22 [00:00<00:00, 118.51it/s]"
          ],
          "name": "stderr"
        },
        {
          "output_type": "stream",
          "text": [
            "spec1 shape: torch.Size([1, 513, 2586, 2])  dtype: torch.float32\n",
            "writing file: /content/drive/MyDrive/HallucinatingGANs/Code/data/spectrograms_dummy/stft/1024_256/rock/rock.00009.pkl\n",
            "Genre:  reggae\n",
            "spec1 shape: torch.Size([1, 513, 2586, 2])  dtype: torch.float32\n",
            "writing file: /content/drive/MyDrive/HallucinatingGANs/Code/data/spectrograms_dummy/stft/1024_256/reggae/reggae.00006.pkl\n",
            "Genre:  pop\n",
            "spec1 shape: torch.Size([1, 513, 2585, 2])  dtype: torch.float32\n",
            "writing file: /content/drive/MyDrive/HallucinatingGANs/Code/data/spectrograms_dummy/stft/1024_256/pop/pop.00002.pkl\n"
          ],
          "name": "stdout"
        },
        {
          "output_type": "stream",
          "text": [
            "\r 82%|████████▏ | 18/22 [00:00<00:00, 14.27it/s] "
          ],
          "name": "stderr"
        },
        {
          "output_type": "stream",
          "text": [
            "Genre:  metal\n",
            "spec1 shape: torch.Size([1, 513, 2585, 2])  dtype: torch.float32\n",
            "writing file: /content/drive/MyDrive/HallucinatingGANs/Code/data/spectrograms_dummy/stft/1024_256/metal/metal.00001.pkl\n",
            "Genre:  jazz\n",
            "spec1 shape: torch.Size([1, 513, 2586, 2])  dtype: torch.float32\n",
            "writing file: /content/drive/MyDrive/HallucinatingGANs/Code/data/spectrograms_dummy/stft/1024_256/jazz/jazz.00002.pkl\n",
            "Genre:  hiphop\n",
            "spec1 shape: torch.Size([1, 513, 2585, 2])  dtype: torch.float32\n",
            "writing file: /content/drive/MyDrive/HallucinatingGANs/Code/data/spectrograms_dummy/stft/1024_256/hiphop/hiphop.00003.pkl\n",
            "Genre:  disco\n",
            "spec1 shape: torch.Size([1, 513, 2603, 2])  dtype: torch.float32\n",
            "writing file: /content/drive/MyDrive/HallucinatingGANs/Code/data/spectrograms_dummy/stft/1024_256/disco/disco.00001.pkl\n"
          ],
          "name": "stdout"
        },
        {
          "output_type": "stream",
          "text": [
            "100%|██████████| 22/22 [00:01<00:00, 18.21it/s]"
          ],
          "name": "stderr"
        },
        {
          "output_type": "stream",
          "text": [
            "Genre:  country\n",
            "spec1 shape: torch.Size([1, 513, 2586, 2])  dtype: torch.float32\n",
            "writing file: /content/drive/MyDrive/HallucinatingGANs/Code/data/spectrograms_dummy/stft/1024_256/country/country.00001.pkl\n",
            "Genre:  classical\n",
            "spec1 shape: torch.Size([1, 513, 2586, 2])  dtype: torch.float32\n",
            "writing file: /content/drive/MyDrive/HallucinatingGANs/Code/data/spectrograms_dummy/stft/1024_256/classical/classical.00004.pkl\n",
            "Genre:  blues\n",
            "spec1 shape: torch.Size([1, 513, 2586, 2])  dtype: torch.float32\n",
            "writing file: /content/drive/MyDrive/HallucinatingGANs/Code/data/spectrograms_dummy/stft/1024_256/blues/blues.00005.pkl\n"
          ],
          "name": "stdout"
        },
        {
          "output_type": "stream",
          "text": [
            "\n"
          ],
          "name": "stderr"
        }
      ]
    }
  ]
}